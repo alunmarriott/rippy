{
  "nbformat": 4,
  "nbformat_minor": 0,
  "metadata": {
    "colab": {
      "provenance": [],
      "machine_shape": "hm",
      "gpuType": "L4",
      "authorship_tag": "ABX9TyMYKrg2OlLKJMXKvFYGyWv0",
      "include_colab_link": true
    },
    "kernelspec": {
      "name": "python3",
      "display_name": "Python 3"
    },
    "language_info": {
      "name": "python"
    },
    "accelerator": "GPU"
  },
  "cells": [
    {
      "cell_type": "markdown",
      "metadata": {
        "id": "view-in-github",
        "colab_type": "text"
      },
      "source": [
        "<a href=\"https://colab.research.google.com/github/alunmarriott/rippy/blob/main/Rippy%20Test.ipynb\" target=\"_parent\"><img src=\"https://colab.research.google.com/assets/colab-badge.svg\" alt=\"Open In Colab\"/></a>"
      ]
    },
    {
      "cell_type": "code",
      "execution_count": null,
      "metadata": {
        "id": "fZapqem-tBfS"
      },
      "outputs": [],
      "source": [
        "import numpy as np\n",
        "import rippy\n",
        "from rippy import Distributions, config, XoLTower\n",
        "from rippy.FrequencySeverity import FrequencySeverityModel\n",
        "import numpy as np\n",
        "import time\n"
      ]
    },
    {
      "cell_type": "code",
      "source": [
        "timestart = time.perf_counter()\n",
        "config.n_sims = 5000000\n",
        "\n",
        "sev_dist = Distributions.GPD(shape=0.33, scale=100000, loc=1000000)\n",
        "freq_dist = Distributions.Poisson(mean=5)\n",
        "\n",
        "losses_pre_cap = FrequencySeverityModel(freq_dist, sev_dist).generate()\n",
        "policy_limit = 5000000\n",
        "# you can apply standard numpy ufuncs to the losses\n",
        "losses_post_cap = np.minimum(losses_pre_cap, policy_limit)\n",
        "\n",
        "# you can apply standard numerical operations to the losses\n",
        "losses_with_LAE = losses_post_cap * 1.05\n",
        "stochastic_inflation = Distributions.Normal(0.05, 0.02).generate()\n",
        "\n",
        "# you can multiply frequency severity losses with other standard simulations\n",
        "gross_losses = losses_with_LAE * (1 + stochastic_inflation)\n",
        "\n",
        "prog = XoLTower(\n",
        "    limit=[1000000, 1000000, 1000000, 1000000, 1000000],\n",
        "    excess=[1000000, 2000000, 3000000, 4000000, 5000000],\n",
        "    aggregate_limit=[3000000, 2000000, 1000000, 1000000, 1000000],\n",
        "    premium=[5000, 4000, 3000, 2000, 1000],\n",
        "    reinstatement_cost=[[1, 0.5], [1], None, None, None],\n",
        ")\n",
        "\n",
        "recoveries = prog.apply(gross_losses)\n",
        "\n",
        "prog.print_summary()\n",
        "timeend = time.perf_counter()\n",
        "print(timeend - timestart)\n"
      ],
      "metadata": {
        "colab": {
          "base_uri": "https://localhost:8080/"
        },
        "id": "lXH2MwX9lJcp",
        "outputId": "45ed4e63-3cc7-4643-bca7-70d6bfe7c3c3"
      },
      "execution_count": null,
      "outputs": [
        {
          "output_type": "stream",
          "name": "stdout",
          "text": [
            "Layer Name : Layer 1\n",
            "Mean Recoveries:  1267178.9335051707\n",
            "SD Recoveries:  688476.0512891972\n",
            "Probability of Attachment:  0.9933066\n",
            "Probability of Vertical Exhaustion:  0.19866632639142506\n",
            "Probability of Horizontal Exhaustion:  0.0221428\n",
            "\n",
            "Layer Name : Layer 2\n",
            "Mean Recoveries:  40861.61741762192\n",
            "SD Recoveries:  170199.11299142794\n",
            "Probability of Attachment:  0.0915642\n",
            "Probability of Vertical Exhaustion:  0.19866632639142506\n",
            "Probability of Horizontal Exhaustion:  0.0001314\n",
            "\n",
            "Layer Name : Layer 3\n",
            "Mean Recoveries:  9206.783037605785\n",
            "SD Recoveries:  86149.45783865609\n",
            "Probability of Attachment:  0.0158294\n",
            "Probability of Vertical Exhaustion:  0.19866632639142506\n",
            "Probability of Horizontal Exhaustion:  0.0051628\n",
            "\n",
            "Layer Name : Layer 4\n",
            "Mean Recoveries:  3451.039653350857\n",
            "SD Recoveries:  54479.16244287122\n",
            "Probability of Attachment:  0.0051504\n",
            "Probability of Vertical Exhaustion:  0.19866632639142506\n",
            "Probability of Horizontal Exhaustion:  0.0022692\n",
            "\n",
            "Layer Name : Layer 5\n",
            "Mean Recoveries:  983.7327007924068\n",
            "SD Recoveries:  22275.23634513385\n",
            "Probability of Attachment:  0.0022676\n",
            "Probability of Vertical Exhaustion:  0.19866632639142506\n",
            "Probability of Horizontal Exhaustion:  1e-06\n",
            "\n",
            "7.5786628919998975\n"
          ]
        }
      ]
    },
    {
      "cell_type": "markdown",
      "source": [
        "#from rippy.FreqSevModel import FrequencySeverityModel\n",
        "\n",
        "\n",
        "import numpy as np\n",
        "\n",
        "config.n_sims = 1000000\n",
        "\n",
        "sev_dist = Distributions.GPD(shape=0.33, scale=100000, loc=1000000)\n",
        "freq_dist = Distributions.Poisson(mean=5)\n",
        "\n",
        "losses_pre_cap = FrequencySeverityModel(freq_dist, sev_dist).generate()\n",
        "policy_limit = 5000000\n",
        "# you can apply standard numpy ufuncs to the losses\n",
        "losses_post_cap = np.minimum(losses_pre_cap, policy_limit)\n",
        "\n",
        "# you can apply standard numerical operations to the losses\n",
        "losses_with_LAE = losses_post_cap * 1.05\n",
        "stochastic_inflation = Distributions.Normal(0.05, 0.02).generate()\n",
        "\n",
        "# you can multiply frequency severity losses with other standard simulations\n",
        "gross_losses = losses_with_LAE * (1 + stochastic_inflation)\n",
        "\n",
        "prog = XoLTower(\n",
        "    limit=[1000000, 1000000, 1000000, 1000000, 1000000],\n",
        "    excess=[1000000, 2000000, 3000000, 4000000, 5000000],\n",
        "    aggregate_limit=[3000000, 2000000, 1000000, 1000000, 1000000],\n",
        "    premium=[5000, 4000, 3000, 2000, 1000],\n",
        "    reinstatement_cost=[[1, 0.5], [1], None, None, None],\n",
        ")\n",
        "\n",
        "recoveries = prog.apply(gross_losses)\n",
        "\n",
        "prog.print_summary()\n"
      ],
      "metadata": {
        "id": "j2xoUm7eyv1j"
      }
    }
  ]
}